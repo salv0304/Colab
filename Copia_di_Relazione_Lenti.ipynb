{
  "nbformat": 4,
  "nbformat_minor": 0,
  "metadata": {
    "colab": {
      "provenance": [],
      "authorship_tag": "ABX9TyOyshDD/pLM6JWMklHxufuG",
      "include_colab_link": true
    },
    "kernelspec": {
      "name": "python3",
      "display_name": "Python 3"
    },
    "language_info": {
      "name": "python"
    }
  },
  "cells": [
    {
      "cell_type": "markdown",
      "metadata": {
        "id": "view-in-github",
        "colab_type": "text"
      },
      "source": [
        "<a href=\"https://colab.research.google.com/github/salv0304/Colab/blob/main/Copia_di_Relazione_Lenti.ipynb\" target=\"_parent\"><img src=\"https://colab.research.google.com/assets/colab-badge.svg\" alt=\"Open In Colab\"/></a>"
      ]
    },
    {
      "cell_type": "markdown",
      "source": [
        "#**Relazione Lenti**"
      ],
      "metadata": {
        "id": "iECiXtjMOU6u"
      }
    },
    {
      "cell_type": "code",
      "execution_count": null,
      "metadata": {
        "id": "o0_FnWIWG7Fz"
      },
      "outputs": [],
      "source": [
        "import numpy as np\n",
        "from scipy import optimize as sop\n",
        "from scipy import constants as scc\n",
        "import matplotlib.pyplot as plt  \n",
        "from google.colab import files\n",
        "import pandas as pd\n",
        "from google.colab import files\n",
        "from scipy.optimize import curve_fit "
      ]
    },
    {
      "cell_type": "markdown",
      "source": [
        "##Propagazione della luce senza lenti"
      ],
      "metadata": {
        "id": "eL3IbSs5OiCk"
      }
    },
    {
      "cell_type": "markdown",
      "source": [
        "La prima parte dell'esperienza consiste nello studiare il comportamento dell'intensità rilevata da un fotodiodo, che utilizza come sorgente luminosa un LED, in funzione della distanza. \n",
        "\n",
        "Grafico i valori dell'intensità in uscita e della distanza tra LED e fotodiodo. Utilizzo i dati per un fit a due parametri della funzione $I=\\frac{A}{(x+x_0)^2}$ dove $A$ è un coefficiente di proporzionalità e $x_0$ un fattore di correzione che introduciamo per correggere l'offset della misura della distanza."
      ],
      "metadata": {
        "id": "8Jfn7L5fQlmX"
      }
    },
    {
      "cell_type": "markdown",
      "source": [
        "###Scatter Plot dei dati"
      ],
      "metadata": {
        "id": "T4nfqRw2OpGn"
      }
    },
    {
      "cell_type": "code",
      "source": [
        "plt.figure(figsize=[8,6])\n",
        "plotSizeX=40                                     # Dimensione in X del grafico\n",
        "plotSizeY= 400\n",
        "dati=np.loadtxt(\"NoLenti.txt\", dtype=np.str, delimiter=\"\\t\", skiprows=1) #scarto l'header del file\n",
        "dati = dati.astype(np.float)\n",
        "dist=dati[:,0] \n",
        "intens=dati[:,1] \n",
        "\n",
        "distanza = [i / 100 for i in dist] #conversione unità di msiura\n",
        "intensità = [i / 1000 for i in intens] #conversione unità di msiura\n",
        "\n",
        "print(\"\\n Distanza (m)\\t\\tIntensità (V)\")\n",
        "for i in range(len(distanza)):\n",
        "  print(distanza[i],\"\\t\",intensità[i])\n",
        "\n",
        "\n",
        "plt.scatter(distanza, intensità, color='blue')\n",
        "\n",
        "plt.title(\"Dati Sperimentali\")\n",
        "plt.grid(True)\n",
        "plt.xlabel(\"Distanza (m)\")\n",
        "plt.ylabel(\"Intensità (V)\")\n",
        "plt.legend()"
      ],
      "metadata": {
        "colab": {
          "base_uri": "https://localhost:8080/",
          "height": 789
        },
        "id": "yOkrO6a5Hqae",
        "outputId": "267d62d5-dfb3-44b8-e854-3d9a1bd5fa46"
      },
      "execution_count": null,
      "outputs": [
        {
          "output_type": "stream",
          "name": "stderr",
          "text": [
            "/usr/local/lib/python3.7/dist-packages/ipykernel_launcher.py:4: DeprecationWarning: `np.str` is a deprecated alias for the builtin `str`. To silence this warning, use `str` by itself. Doing this will not modify any behavior and is safe. If you specifically wanted the numpy scalar type, use `np.str_` here.\n",
            "Deprecated in NumPy 1.20; for more details and guidance: https://numpy.org/devdocs/release/1.20.0-notes.html#deprecations\n",
            "  after removing the cwd from sys.path.\n",
            "/usr/local/lib/python3.7/dist-packages/ipykernel_launcher.py:5: DeprecationWarning: `np.float` is a deprecated alias for the builtin `float`. To silence this warning, use `float` by itself. Doing this will not modify any behavior and is safe. If you specifically wanted the numpy scalar type, use `np.float64` here.\n",
            "Deprecated in NumPy 1.20; for more details and guidance: https://numpy.org/devdocs/release/1.20.0-notes.html#deprecations\n",
            "  \"\"\"\n",
            "WARNING:matplotlib.legend:No handles with labels found to put in legend.\n"
          ]
        },
        {
          "output_type": "stream",
          "name": "stdout",
          "text": [
            "\n",
            " Distanza (m)\t\tIntensità (V)\n",
            "0.0 \t 1.0\n",
            "0.01 \t 0.616\n",
            "0.02 \t 0.432\n",
            "0.03 \t 0.348\n",
            "0.04 \t 0.28\n",
            "0.05 \t 0.23\n",
            "0.06 \t 0.194\n",
            "0.07 \t 0.162\n",
            "0.08 \t 0.138\n",
            "0.09 \t 0.12\n",
            "0.1 \t 0.112\n"
          ]
        },
        {
          "output_type": "execute_result",
          "data": {
            "text/plain": [
              "<matplotlib.legend.Legend at 0x7fd887f51d90>"
            ]
          },
          "metadata": {},
          "execution_count": 16
        },
        {
          "output_type": "display_data",
          "data": {
            "text/plain": [
              "<Figure size 576x432 with 1 Axes>"
            ],
            "image/png": "[encoded data removed]"
          },
          "metadata": {
            "needs_background": "light"
          }
        }
      ]
    },
    {
      "cell_type": "markdown",
      "source": [
        "###Fit dei dati"
      ],
      "metadata": {
        "id": "qID1Xwz_Ov5-"
      }
    },
    {
      "cell_type": "code",
      "source": [
        "def funzione1(x,A,x0):\n",
        "    intens= A/((x+x0)**(2))\n",
        "    return intens"
      ],
      "metadata": {
        "id": "mgi-9e64JbYO"
      },
      "execution_count": null,
      "outputs": []
    },
    {
      "cell_type": "code",
      "source": [
        "# Fitting routine\n",
        "# esegue il fit dei dati a partire da una stima dei dati iniziali\n",
        "#\n",
        " \n",
        "def fitplot(A, x0, print_output=True, plot_guess=False):\n",
        " \n",
        "  guess = np.array([A, x0]) #array of initial guesses\n",
        "  bounds = ([-np.inf,-np.inf], [np.inf,np.inf]) \n",
        " \n",
        "  global popt, pcov    #declare fit results as global variables\n",
        " \n",
        "  plt.figure(figsize=(9, 6))\n",
        " \n",
        "  popt, pcov = curve_fit(funzione1, distanza, intensità, p0=guess, bounds=bounds)\n",
        "\n",
        "  if plot_guess:\n",
        "    plt.plot(t, funzione1(t, guess[0], guess[1]),'--', color=[0.3,0.7,0], label=\"Guess\", linewidth=20) # plot guess\n",
        "\n",
        "                                                                                                \n",
        "  #plotting fit result\n",
        "  ndata=len(distanza)\n",
        "  plt.figure(figsize=[10,6])\n",
        "  xmin,xmax=distanza[0],distanza[ndata-1]\n",
        "  x=np.arange(xmin,xmax+1e-5,0.01)\n",
        "  y=funzione1(x,popt[0], popt[1])\n",
        "  plt.ylabel('Intensità (V)', fontsize=20)\n",
        "  plt.xlabel('Distanza (m)', fontsize=20)\n",
        "  plt.xticks(fontsize=10)\n",
        "  plt.yticks(fontsize=10)\n",
        "  plt.plot(distanza,intensità,'o',markersize=8,label=\"Exp.\")\n",
        "  plt.plot(x,y,label=\"Fit\")\n",
        "  plt.grid(True)\n",
        "  plt.legend()\n",
        "  plt.show()\n",
        "  \n",
        "  if print_output:\n",
        "    label = [\"A\", \"x0\"]\n",
        "    for l, v, e in zip(label, popt, np.sqrt(np.diag(pcov))) :\n",
        "      print(\"%11s = %10.10f +- %7.10f\" % (l ,v, e))\n",
        "    print(\"\\n\") "
      ],
      "metadata": {
        "id": "KBq8QU22J8BE"
      },
      "execution_count": null,
      "outputs": []
    },
    {
      "cell_type": "code",
      "source": [
        "#fitplot(A, B, print_output=True, plot_guess=False):\n",
        "fitplot(10000,3.5)"
      ],
      "metadata": {
        "colab": {
          "base_uri": "https://localhost:8080/",
          "height": 484
        },
        "id": "S_xw1E9xKfjV",
        "outputId": "63137952-b2d4-4835-b915-45d9ccaf4482"
      },
      "execution_count": null,
      "outputs": [
        {
          "output_type": "display_data",
          "data": {
            "text/plain": [
              "<Figure size 648x432 with 0 Axes>"
            ]
          },
          "metadata": {}
        },
        {
          "output_type": "display_data",
          "data": {
            "text/plain": [
              "<Figure size 720x432 with 1 Axes>"
            ],
            "image/png": "[encoded data removed]"
          },
          "metadata": {
            "needs_background": "light"
          }
        },
        {
          "output_type": "stream",
          "name": "stdout",
          "text": [
            "          A = 0.0019338211 +- 0.0001391242\n",
            "         x0 = 0.0444995025 +- 0.0018591699\n",
            "\n",
            "\n"
          ]
        }
      ]
    },
    {
      "cell_type": "markdown",
      "source": [
        "##Propagazione della luce con una lente"
      ],
      "metadata": {
        "id": "vd4BeqTXOzOr"
      }
    },
    {
      "cell_type": "markdown",
      "source": [
        "Nella seconda parte dell'esperienza introduco una lente convergente e la fisso ad una distanza $x_i$ dal LED con $x_i > f$ e studio l'andamento dell'intensità in funzione della distanza.\n",
        "\n",
        "in un secondo momento raccolgo le coppie di valori $(x_i,y_i)$, dove $x_i$ rappresenta la distanza fissata del LED dalla lente mentre $y_i$ la distanza tra lente e fotodiodo che massimizza l'intensità rilevata e utilizzo questi dati per verificare la legge $f= (\\frac{1}{x+x_o} + \\frac{1}{y+x_0})^{-1}$."
      ],
      "metadata": {
        "id": "MYTt5nYCPl7G"
      }
    },
    {
      "cell_type": "markdown",
      "source": [
        "###Scatter plot dei dati"
      ],
      "metadata": {
        "id": "lQPG0XQiPCZp"
      }
    },
    {
      "cell_type": "code",
      "source": [
        "plt.figure(figsize=[8,6])\n",
        "plotSizeX=40                                     # Dimensione in X del grafico\n",
        "plotSizeY= 400\n",
        "dati=np.loadtxt(\"6cm.txt\", dtype=np.str, delimiter=\"\\t\", skiprows=1) #scarto l'header del file\n",
        "dati = dati.astype(np.float)\n",
        "dist=dati[:,0] \n",
        "intens=dati[:,1] \n",
        "\n",
        "distanza = [i / 100 for i in dist] #conversione unità di msiura\n",
        "intensità = [i / 1000 for i in intens] #conversione unità di msiura\n",
        "\n",
        "print(\"\\n Distanza (m)\\t\\tIntensità (V)\")\n",
        "for i in range(len(distanza)):\n",
        "  print(distanza[i],\"\\t\",intensità[i])\n",
        "\n",
        "\n",
        "plt.scatter(distanza, intensità, color='blue', label='x=6cm')\n",
        "\n",
        "plt.title(\"Dati Sperimentali\")\n",
        "plt.grid(True)\n",
        "plt.xlabel(\"Distanza (m)\")\n",
        "plt.ylabel(\"Intensità (V)\")\n",
        "plt.legend()"
      ],
      "metadata": {
        "colab": {
          "base_uri": "https://localhost:8080/",
          "height": 754
        },
        "id": "L7rvz1HaLZ1T",
        "outputId": "8b45859b-5438-442a-8c38-4bb8d8dc27e1"
      },
      "execution_count": null,
      "outputs": [
        {
          "output_type": "stream",
          "name": "stdout",
          "text": [
            "\n",
            " Distanza (m)\t\tIntensità (V)\n",
            "0.0 \t 0.332\n",
            "0.015 \t 0.444\n",
            "0.03 \t 0.624\n",
            "0.045 \t 1.11\n",
            "0.06 \t 0.992\n",
            "0.075 \t 0.688\n",
            "0.09 \t 0.448\n",
            "0.105 \t 0.316\n",
            "0.12 \t 0.23\n",
            "0.0375 \t 0.832\n"
          ]
        },
        {
          "output_type": "stream",
          "name": "stderr",
          "text": [
            "/usr/local/lib/python3.7/dist-packages/ipykernel_launcher.py:4: DeprecationWarning: `np.str` is a deprecated alias for the builtin `str`. To silence this warning, use `str` by itself. Doing this will not modify any behavior and is safe. If you specifically wanted the numpy scalar type, use `np.str_` here.\n",
            "Deprecated in NumPy 1.20; for more details and guidance: https://numpy.org/devdocs/release/1.20.0-notes.html#deprecations\n",
            "  after removing the cwd from sys.path.\n",
            "/usr/local/lib/python3.7/dist-packages/ipykernel_launcher.py:5: DeprecationWarning: `np.float` is a deprecated alias for the builtin `float`. To silence this warning, use `float` by itself. Doing this will not modify any behavior and is safe. If you specifically wanted the numpy scalar type, use `np.float64` here.\n",
            "Deprecated in NumPy 1.20; for more details and guidance: https://numpy.org/devdocs/release/1.20.0-notes.html#deprecations\n",
            "  \"\"\"\n"
          ]
        },
        {
          "output_type": "execute_result",
          "data": {
            "text/plain": [
              "<matplotlib.legend.Legend at 0x7fb6a0f491d0>"
            ]
          },
          "metadata": {},
          "execution_count": 4
        },
        {
          "output_type": "display_data",
          "data": {
            "text/plain": [
              "<Figure size 576x432 with 1 Axes>"
            ],
            "image/png": "[encoded data removed]"
          },
          "metadata": {
            "needs_background": "light"
          }
        }
      ]
    },
    {
      "cell_type": "code",
      "source": [
        "plt.figure(figsize=[8,6])\n",
        "plotSizeX=40                                     # Dimensione in X del grafico\n",
        "plotSizeY= 400\n",
        "dati=np.loadtxt(\"10cm.txt\", dtype=np.str, delimiter=\"\\t\", skiprows=1) #scarto l'header del file\n",
        "dati = dati.astype(np.float)\n",
        "dist=dati[:,0] \n",
        "intens=dati[:,1] \n",
        "\n",
        "distanza = [i / 100 for i in dist] #conversione unità di msiura\n",
        "intensità = [i / 1000 for i in intens] #conversione unità di msiura\n",
        "\n",
        "print(\"\\n Distanza (m)\\t\\tIntensità (V)\")\n",
        "for i in range(len(distanza)):\n",
        "  print(distanza[i],\"\\t\",intensità[i])\n",
        "\n",
        "\n",
        "plt.scatter(distanza, intensità, color='blue', label='x=10 cm')\n",
        "\n",
        "plt.title(\"Dati Sperimentali\")\n",
        "plt.grid(True)\n",
        "plt.xlabel(\"Distanza (m)\")\n",
        "plt.ylabel(\"Intensità (V)\")\n",
        "plt.legend()"
      ],
      "metadata": {
        "colab": {
          "base_uri": "https://localhost:8080/",
          "height": 754
        },
        "id": "MEj-bl4aMBn0",
        "outputId": "7d71ff79-2e0a-4c06-d7c4-275397238398"
      },
      "execution_count": null,
      "outputs": [
        {
          "output_type": "stream",
          "name": "stdout",
          "text": [
            "\n",
            " Distanza (m)\t\tIntensità (V)\n",
            "0.0 \t 0.248\n",
            "0.015 \t 0.48\n",
            "0.03 \t 0.976\n",
            "0.045 \t 0.656\n",
            "0.06 \t 0.384\n",
            "0.075 \t 0.234\n",
            "0.0275 \t 0.808\n",
            "0.01 \t 0.4\n",
            "0.0375 \t 0.88\n",
            "0.02 \t 0.656\n"
          ]
        },
        {
          "output_type": "stream",
          "name": "stderr",
          "text": [
            "/usr/local/lib/python3.7/dist-packages/ipykernel_launcher.py:4: DeprecationWarning: `np.str` is a deprecated alias for the builtin `str`. To silence this warning, use `str` by itself. Doing this will not modify any behavior and is safe. If you specifically wanted the numpy scalar type, use `np.str_` here.\n",
            "Deprecated in NumPy 1.20; for more details and guidance: https://numpy.org/devdocs/release/1.20.0-notes.html#deprecations\n",
            "  after removing the cwd from sys.path.\n",
            "/usr/local/lib/python3.7/dist-packages/ipykernel_launcher.py:5: DeprecationWarning: `np.float` is a deprecated alias for the builtin `float`. To silence this warning, use `float` by itself. Doing this will not modify any behavior and is safe. If you specifically wanted the numpy scalar type, use `np.float64` here.\n",
            "Deprecated in NumPy 1.20; for more details and guidance: https://numpy.org/devdocs/release/1.20.0-notes.html#deprecations\n",
            "  \"\"\"\n"
          ]
        },
        {
          "output_type": "execute_result",
          "data": {
            "text/plain": [
              "<matplotlib.legend.Legend at 0x7fb6a0457dd0>"
            ]
          },
          "metadata": {},
          "execution_count": 5
        },
        {
          "output_type": "display_data",
          "data": {
            "text/plain": [
              "<Figure size 576x432 with 1 Axes>"
            ],
            "image/png": "[encoded data removed]"
          },
          "metadata": {
            "needs_background": "light"
          }
        }
      ]
    },
    {
      "cell_type": "code",
      "source": [
        "plt.figure(figsize=[8,6])\n",
        "plotSizeX=40                                     # Dimensione in X del grafico\n",
        "plotSizeY= 400\n",
        "dati=np.loadtxt(\"12.3cm.txt\", dtype=np.str, delimiter=\"\\t\", skiprows=1) #scarto l'header del file\n",
        "dati = dati.astype(np.float)\n",
        "dist=dati[:,0] \n",
        "intens=dati[:,1] \n",
        "\n",
        "distanza = [i / 100 for i in dist] #conversione unità di msiura\n",
        "intensità = [i / 1000 for i in intens] #conversione unità di msiura\n",
        "\n",
        "print(\"\\n Distanza (m)\\t\\tIntensità (V)\")\n",
        "for i in range(len(distanza)):\n",
        "  print(distanza[i],\"\\t\",intensità[i])\n",
        "\n",
        "\n",
        "plt.scatter(distanza, intensità, color='blue',label='x=12.3 cm')\n",
        "\n",
        "plt.title(\"Dati Sperimentali\")\n",
        "plt.grid(True)\n",
        "plt.xlabel(\"Distanza (m)\")\n",
        "plt.ylabel(\"Intensità (V)\")\n",
        "plt.legend()"
      ],
      "metadata": {
        "colab": {
          "base_uri": "https://localhost:8080/",
          "height": 806
        },
        "id": "1k_CEJk-W6qv",
        "outputId": "c3a35046-c85f-4d56-9984-4124a63beb2e"
      },
      "execution_count": null,
      "outputs": [
        {
          "output_type": "stream",
          "name": "stdout",
          "text": [
            "\n",
            " Distanza (m)\t\tIntensità (V)\n",
            "0.0 \t 0.069\n",
            "0.017 \t 0.202\n",
            "0.03 \t 0.848\n",
            "0.04 \t 0.648\n",
            "0.055 \t 0.208\n",
            "0.07 \t 0.085\n",
            "0.022000000000000002 \t 0.576\n",
            "0.035 \t 0.84\n",
            "0.037000000000000005 \t 0.793\n",
            "0.01 \t 0.114\n",
            "0.027000000000000003 \t 0.816\n",
            "0.02 \t 0.34\n",
            "0.045 \t 0.452\n"
          ]
        },
        {
          "output_type": "stream",
          "name": "stderr",
          "text": [
            "/usr/local/lib/python3.7/dist-packages/ipykernel_launcher.py:4: DeprecationWarning: `np.str` is a deprecated alias for the builtin `str`. To silence this warning, use `str` by itself. Doing this will not modify any behavior and is safe. If you specifically wanted the numpy scalar type, use `np.str_` here.\n",
            "Deprecated in NumPy 1.20; for more details and guidance: https://numpy.org/devdocs/release/1.20.0-notes.html#deprecations\n",
            "  after removing the cwd from sys.path.\n",
            "/usr/local/lib/python3.7/dist-packages/ipykernel_launcher.py:5: DeprecationWarning: `np.float` is a deprecated alias for the builtin `float`. To silence this warning, use `float` by itself. Doing this will not modify any behavior and is safe. If you specifically wanted the numpy scalar type, use `np.float64` here.\n",
            "Deprecated in NumPy 1.20; for more details and guidance: https://numpy.org/devdocs/release/1.20.0-notes.html#deprecations\n",
            "  \"\"\"\n"
          ]
        },
        {
          "output_type": "execute_result",
          "data": {
            "text/plain": [
              "<matplotlib.legend.Legend at 0x7fb6a0f92d10>"
            ]
          },
          "metadata": {},
          "execution_count": 6
        },
        {
          "output_type": "display_data",
          "data": {
            "text/plain": [
              "<Figure size 576x432 with 1 Axes>"
            ],
            "image/png": "[encoded data removed]"
          },
          "metadata": {
            "needs_background": "light"
          }
        }
      ]
    },
    {
      "cell_type": "code",
      "source": [
        "plt.figure(figsize=[8,6])\n",
        "plotSizeX=40                                     # Dimensione in X del grafico\n",
        "plotSizeY= 400\n",
        "dati=np.loadtxt(\"15.2cm.txt\", dtype=np.str, delimiter=\"\\t\", skiprows=1) #scarto l'header del file\n",
        "dati = dati.astype(np.float)\n",
        "dist=dati[:,0] \n",
        "intens=dati[:,1] \n",
        "\n",
        "distanza = [i / 100 for i in dist] #conversione unità di msiura\n",
        "intensità = [i / 1000 for i in intens] #conversione unità di msiura\n",
        "\n",
        "print(\"\\n Distanza (m)\\t\\tIntensità (V)\")\n",
        "for i in range(len(distanza)):\n",
        "  print(distanza[i],\"\\t\",intensità[i])\n",
        "\n",
        "\n",
        "plt.scatter(distanza, intensità, color='blue', label='x=15.2 cm')\n",
        "\n",
        "plt.title(\"Dati Sperimentali\")\n",
        "plt.grid(True)\n",
        "plt.xlabel(\"Distanza (m)\")\n",
        "plt.ylabel(\"Intensità (V)\")\n",
        "plt.legend()"
      ],
      "metadata": {
        "colab": {
          "base_uri": "https://localhost:8080/",
          "height": 789
        },
        "id": "P5Jvw5FmW9lm",
        "outputId": "48d70c10-7c1b-4a65-d5a4-91b77c843700"
      },
      "execution_count": null,
      "outputs": [
        {
          "output_type": "stream",
          "name": "stdout",
          "text": [
            "\n",
            " Distanza (m)\t\tIntensità (V)\n",
            "0.0 \t 0.058\n",
            "0.025 \t 0.52\n",
            "0.04 \t 0.248\n",
            "0.035 \t 0.412\n",
            "0.03 \t 0.528\n",
            "0.0275 \t 0.524\n",
            "0.02 \t 0.408\n",
            "0.015 \t 0.178\n",
            "0.01 \t 0.087\n",
            "0.0175 \t 0.284\n",
            "0.005 \t 0.072\n",
            "0.032 \t 0.484\n"
          ]
        },
        {
          "output_type": "stream",
          "name": "stderr",
          "text": [
            "/usr/local/lib/python3.7/dist-packages/ipykernel_launcher.py:4: DeprecationWarning: `np.str` is a deprecated alias for the builtin `str`. To silence this warning, use `str` by itself. Doing this will not modify any behavior and is safe. If you specifically wanted the numpy scalar type, use `np.str_` here.\n",
            "Deprecated in NumPy 1.20; for more details and guidance: https://numpy.org/devdocs/release/1.20.0-notes.html#deprecations\n",
            "  after removing the cwd from sys.path.\n",
            "/usr/local/lib/python3.7/dist-packages/ipykernel_launcher.py:5: DeprecationWarning: `np.float` is a deprecated alias for the builtin `float`. To silence this warning, use `float` by itself. Doing this will not modify any behavior and is safe. If you specifically wanted the numpy scalar type, use `np.float64` here.\n",
            "Deprecated in NumPy 1.20; for more details and guidance: https://numpy.org/devdocs/release/1.20.0-notes.html#deprecations\n",
            "  \"\"\"\n"
          ]
        },
        {
          "output_type": "execute_result",
          "data": {
            "text/plain": [
              "<matplotlib.legend.Legend at 0x7fb6a0337c50>"
            ]
          },
          "metadata": {},
          "execution_count": 8
        },
        {
          "output_type": "display_data",
          "data": {
            "text/plain": [
              "<Figure size 576x432 with 1 Axes>"
            ],
            "image/png": "[encoded data removed]"
          },
          "metadata": {
            "needs_background": "light"
          }
        }
      ]
    },
    {
      "cell_type": "markdown",
      "source": [
        "Riporto le coppie $x_i$, $y_i$ e i corrispetivi $f$ calcolati utilizzando l'$x_0$ fittato nella prima parte dell'esperienza.\n",
        "\n",
        "\\begin{array}{ccc}\n",
        "x_i(cm) & y_i (cm) & f(cm)\\\\\n",
        "\\hline\n",
        "6 & 4.5 & 4.796 \\\\\n",
        "10 & 3 & 4.888 \\\\\n",
        "12.3 & 3  & 5.128 \\\\\n",
        "15.2 & 3 & 5.372  \\\\\n",
        "\\hline\n",
        " & MEDIA & \\\\\n",
        "\\hline\n",
        "& f= 5.046 cm &\n",
        "\\end{array}\n",
        "\n",
        "perfettamente in accordo con il *valore vero $f=5cm$*."
      ],
      "metadata": {
        "id": "geEOKaZYPXMt"
      }
    },
    {
      "cell_type": "markdown",
      "source": [
        "##Propagazione di un raggio collimato"
      ],
      "metadata": {
        "id": "f84E6kVIPG9y"
      }
    },
    {
      "cell_type": "markdown",
      "source": [
        "Sappiamo che se una sorgente di luce puntiforme viene posta nel fuoco di una lente convergente allora i raggi si propagano parallelamente, dunque quando il fascio collimato incontra un'altra lente tutti i raggi verranno focalizzati nel fuoco.\n",
        "\n",
        "Il nostro obiettivo in questa terza parte dell'esperienza è ottimizzare le distanze led-lente e lente-fotodiodo per far sì che ciò avvenga. Trasliamo poi in blocco lente e fotodiodo per studiare l'andamento dell'intensità in funzione della distanza tra le lenti, che ci aspettiamo essere costante."
      ],
      "metadata": {
        "id": "es0fzx408wgi"
      }
    },
    {
      "cell_type": "markdown",
      "source": [
        "###Scatter plot dei dati"
      ],
      "metadata": {
        "id": "4UBdcLetPQxO"
      }
    },
    {
      "cell_type": "code",
      "source": [
        "plt.figure(figsize=[8,6])\n",
        "plotSizeX=40                                     # Dimensione in X del grafico\n",
        "plotSizeY= 400\n",
        "dati=np.loadtxt(\"DueLenti.txt\", dtype=np.str, delimiter=\"\\t\", skiprows=1) #scarto l'header del file\n",
        "dati = dati.astype(np.float)\n",
        "dist=dati[:,0] \n",
        "intens=dati[:,1] \n",
        "\n",
        "distanza = [i / 100 for i in dist] #conversione unità di msiura\n",
        "intensità = [i / 1000 for i in intens] #conversione unità di msiura\n",
        "\n",
        "print(\"\\n Distanza (m)\\t\\tIntensità (V)\")\n",
        "for i in range(len(distanza)):\n",
        "  print(distanza[i],\"\\t\",intensità[i])\n",
        "\n",
        "\n",
        "plt.scatter(distanza, intensità, color='blue')\n",
        "\n",
        "plt.title(\"Dati Sperimentali\")\n",
        "plt.grid(True)\n",
        "plt.xlabel(\"Distanza (m)\")\n",
        "plt.ylabel(\"Intensità (V)\")\n",
        "plt.ylim(0,1.5)\n",
        "plt.legend()"
      ],
      "metadata": {
        "colab": {
          "base_uri": "https://localhost:8080/",
          "height": 754
        },
        "id": "0SkP38FfYDuw",
        "outputId": "e80f7b45-834c-4419-df29-acd8f582ecfd"
      },
      "execution_count": null,
      "outputs": [
        {
          "output_type": "stream",
          "name": "stderr",
          "text": [
            "/usr/local/lib/python3.7/dist-packages/ipykernel_launcher.py:4: DeprecationWarning: `np.str` is a deprecated alias for the builtin `str`. To silence this warning, use `str` by itself. Doing this will not modify any behavior and is safe. If you specifically wanted the numpy scalar type, use `np.str_` here.\n",
            "Deprecated in NumPy 1.20; for more details and guidance: https://numpy.org/devdocs/release/1.20.0-notes.html#deprecations\n",
            "  after removing the cwd from sys.path.\n",
            "/usr/local/lib/python3.7/dist-packages/ipykernel_launcher.py:5: DeprecationWarning: `np.float` is a deprecated alias for the builtin `float`. To silence this warning, use `float` by itself. Doing this will not modify any behavior and is safe. If you specifically wanted the numpy scalar type, use `np.float64` here.\n",
            "Deprecated in NumPy 1.20; for more details and guidance: https://numpy.org/devdocs/release/1.20.0-notes.html#deprecations\n",
            "  \"\"\"\n",
            "WARNING:matplotlib.legend:No handles with labels found to put in legend.\n"
          ]
        },
        {
          "output_type": "stream",
          "name": "stdout",
          "text": [
            "\n",
            " Distanza (m)\t\tIntensità (V)\n",
            "0.495 \t 0.624\n",
            "0.365 \t 0.816\n",
            "0.23 \t 1.09\n",
            "0.15 \t 1.1\n",
            "0.085 \t 1.15\n",
            "0.16 \t 1.09\n",
            "0.205 \t 1.05\n",
            "0.12 \t 1.14\n",
            "0.293 \t 1.06\n"
          ]
        },
        {
          "output_type": "execute_result",
          "data": {
            "text/plain": [
              "<matplotlib.legend.Legend at 0x7fb69fc69d50>"
            ]
          },
          "metadata": {},
          "execution_count": 13
        },
        {
          "output_type": "display_data",
          "data": {
            "text/plain": [
              "<Figure size 576x432 with 1 Axes>"
            ],
            "image/png": "[encoded data removed]"
          },
          "metadata": {
            "needs_background": "light"
          }
        }
      ]
    },
    {
      "cell_type": "markdown",
      "source": [
        "Dovremmo ottenere un'intensità costante al variare della distanza, in quanto abbiamo collimato il fascio di luce proveniente dal led e poi rifocalizzato sul fotodiodo. Ciò avviene fino a circa 30 centimetri, ma poi osserviamo un picco. Il risultato è giustificabile dal nostro apparato strumentale: infatti\n",
        "\n",
        "\n",
        "*   Un led **non è** una sorgente di luce puntiforme;\n",
        "*   Il processo di collimazione e rifocalizzazione, ottenuta ottimizzando le distanze led-lente e lente-fotodiodo attraverso l'uso di uno oscilloscopio e \"a occhio\", non è di facile realizzazione d è pertanto soggetta ad un errore sistematico non trascurabile.\n",
        "\n"
      ],
      "metadata": {
        "id": "D3PHqNK4b_vF"
      }
    }
  ]
}