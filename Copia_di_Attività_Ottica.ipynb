{
  "nbformat": 4,
  "nbformat_minor": 0,
  "metadata": {
    "colab": {
      "provenance": [],
      "authorship_tag": "ABX9TyN6jQmkUB2H0uH/ju0pWcp8",
      "include_colab_link": true
    },
    "kernelspec": {
      "name": "python3",
      "display_name": "Python 3"
    },
    "language_info": {
      "name": "python"
    }
  },
  "cells": [
    {
      "cell_type": "markdown",
      "metadata": {
        "id": "view-in-github",
        "colab_type": "text"
      },
      "source": [
        "<a href=\"https://colab.research.google.com/github/salv0304/Colab/blob/main/Copia_di_Attivit%C3%A0_Ottica.ipynb\" target=\"_parent\"><img src=\"https://colab.research.google.com/assets/colab-badge.svg\" alt=\"Open In Colab\"/></a>"
      ]
    },
    {
      "cell_type": "markdown",
      "source": [
        "#**Relazione Attività Ottica**"
      ],
      "metadata": {
        "id": "jPnuKT2Q-AEA"
      }
    },
    {
      "cell_type": "code",
      "execution_count": null,
      "metadata": {
        "id": "vXdQLzfKV1Pk"
      },
      "outputs": [],
      "source": [
        "import numpy as np\n",
        "from scipy import optimize as sop\n",
        "from scipy import constants as scc\n",
        "import matplotlib.pyplot as plt  \n",
        "from google.colab import files\n",
        "import pandas as pd\n",
        "from google.colab import files\n",
        "from scipy.optimize import curve_fit "
      ]
    },
    {
      "cell_type": "markdown",
      "source": [
        "##Esperimento 1"
      ],
      "metadata": {
        "id": "2fR6xQd2WOM8"
      }
    },
    {
      "cell_type": "markdown",
      "source": [
        "L'attività ottica di una soluzione è descritta dalla **Legge di Biot**: \n",
        "\n",
        " $\\alpha=kcL$\n",
        "\n",
        "dove\n",
        "* $\\alpha$ è l'angolo di rotazione (positivo per un mezzo destrogiro, negativo per un mezzo levogiro);\n",
        "* $k$ è il potere rotatorio specifico;\n",
        "* $c$ è la concentrazione della soluzione;\n",
        "* $L$ è la lunghezza di propagazione nel materiale.\n",
        "\n",
        "\n",
        "\n"
      ],
      "metadata": {
        "id": "ecbUt6NoAuhY"
      }
    },
    {
      "cell_type": "markdown",
      "source": [
        "###Misure in funzione di $L$"
      ],
      "metadata": {
        "id": "jFEfP5OlWQNL"
      }
    },
    {
      "cell_type": "markdown",
      "source": [
        "Nella prima parte di questo esperimento fittiamo $k$ per il saccarosio attraverso la legge $\\alpha=kcL$, con $c= \\frac{39g}{80ml}$.\n",
        "\n",
        " Ricordando che $k$ dipende dalla lunghezza d'onda $\\lambda$, lavoriamo a lunghezza d'onda fissata. Noi abbiamo lavorato con un led giallo di $\\lambda=580 nm$."
      ],
      "metadata": {
        "id": "DQJxGLnHB1br"
      }
    },
    {
      "cell_type": "code",
      "source": [
        "plt.figure(figsize=[8,6])\n",
        "plotSizeX=40                                     # Dimensione in X del grafico\n",
        "plotSizeY= 400\n",
        "dati=np.loadtxt(\"exp1_L_alfa.txt\", dtype=np.str, delimiter=\"\\t\", skiprows=1) #scarto l'header del file\n",
        "dati = dati.astype(np.float)\n",
        "L=dati[:,0] #ordine degli  zeri\n",
        "angolo=dati[:,1] #radianti\n",
        "\n",
        "\n",
        "print(\"\\L (cm) \\t\\tAngolo (deg)\")\n",
        "for i in range(len(L)):\n",
        "  print(L[i],\"\\t\",angolo[i])\n",
        "\n",
        "\n",
        "plt.scatter(L, angolo, color='red')\n",
        "\n",
        "plt.title(\"Dati Sperimentali\")\n",
        "plt.grid(True)\n",
        "plt.xlabel(\"Lunghezza (cm)\")\n",
        "plt.ylabel(\"Angolo (deg)\")\n",
        "plt.legend()"
      ],
      "metadata": {
        "colab": {
          "base_uri": "https://localhost:8080/",
          "height": 702
        },
        "id": "8S-dZ3OGWkh6",
        "outputId": "ee018d20-6081-4da3-b916-be62f8adef9a"
      },
      "execution_count": null,
      "outputs": [
        {
          "output_type": "stream",
          "name": "stderr",
          "text": [
            "<ipython-input-26-e7e6f5ce9684>:4: DeprecationWarning: `np.str` is a deprecated alias for the builtin `str`. To silence this warning, use `str` by itself. Doing this will not modify any behavior and is safe. If you specifically wanted the numpy scalar type, use `np.str_` here.\n",
            "Deprecated in NumPy 1.20; for more details and guidance: https://numpy.org/devdocs/release/1.20.0-notes.html#deprecations\n",
            "  dati=np.loadtxt(\"exp1_L_alfa.txt\", dtype=np.str, delimiter=\"\\t\", skiprows=1) #scarto l'header del file\n",
            "<ipython-input-26-e7e6f5ce9684>:5: DeprecationWarning: `np.float` is a deprecated alias for the builtin `float`. To silence this warning, use `float` by itself. Doing this will not modify any behavior and is safe. If you specifically wanted the numpy scalar type, use `np.float64` here.\n",
            "Deprecated in NumPy 1.20; for more details and guidance: https://numpy.org/devdocs/release/1.20.0-notes.html#deprecations\n",
            "  dati = dati.astype(np.float)\n",
            "WARNING:matplotlib.legend:No handles with labels found to put in legend.\n"
          ]
        },
        {
          "output_type": "stream",
          "name": "stdout",
          "text": [
            "\\L (cm) \t\tAngolo (deg)\n",
            "1.7 \t 3.0\n",
            "3.4 \t 6.5\n",
            "5.1 \t 12.0\n",
            "7.0 \t 15.5\n",
            "8.9 \t 20.0\n",
            "10.4 \t 24.0\n",
            "11.7 \t 28.0\n"
          ]
        },
        {
          "output_type": "execute_result",
          "data": {
            "text/plain": [
              "<matplotlib.legend.Legend at 0x7ffbba78b970>"
            ]
          },
          "metadata": {},
          "execution_count": 26
        },
        {
          "output_type": "display_data",
          "data": {
            "text/plain": [
              "<Figure size 576x432 with 1 Axes>"
            ],
            "image/png": "[encoded data removed]"
          },
          "metadata": {
            "needs_background": "light"
          }
        }
      ]
    },
    {
      "cell_type": "code",
      "source": [
        "def retta(l,k):\n",
        "    alfa= k*40/80*l ##La concentrazione c= 40g/80ml\n",
        "    return alfa"
      ],
      "metadata": {
        "id": "m73yS95OXH64"
      },
      "execution_count": null,
      "outputs": []
    },
    {
      "cell_type": "code",
      "source": [
        "# Fitting routine\n",
        "# esegue il fit dei dati a partire da una stima dei dati iniziali\n",
        "#\n",
        " \n",
        "def fitplot(k, print_output=True, plot_guess=False):\n",
        " \n",
        "  guess = np.array([k]) #array of initial guesses\n",
        "  bounds = ([-np.inf], [np.inf]) \n",
        " \n",
        "  global popt, pcov    #declare fit results as global variables\n",
        " \n",
        "  plt.figure(figsize=(9, 6))\n",
        " \n",
        "  popt, pcov = curve_fit(retta, L, angolo, p0=guess, bounds=bounds)\n",
        "\n",
        "  if plot_guess:\n",
        "    plt.plot(t, retta(t, guess[0]),'--', color=[0.3,0.7,0], label=\"Guess\", linewidth=20) # plot guess\n",
        "\n",
        "                                                                                                \n",
        "  #plotting fit result\n",
        "  ndata=len(L)\n",
        "  plt.figure(figsize=[10,6])\n",
        "  xmin,xmax=L[0],L[ndata-1]\n",
        "  x=np.arange(xmin,xmax+1e-5,0.01)\n",
        "  y=retta(x,popt[0])\n",
        "  plt.xlabel('Lunghezza (cm)', fontsize=20)\n",
        "  plt.ylabel('Angolo (deg)', fontsize=20)\n",
        "  plt.xticks(fontsize=10)\n",
        "  plt.yticks(fontsize=10)\n",
        "  plt.plot(L,angolo,'o',markersize=8,label=\"Exp.\")\n",
        "  plt.plot(x,y,label=\"Fit\")\n",
        "  plt.grid(True)\n",
        "  plt.legend()\n",
        "  plt.show()\n",
        "  \n",
        "  if print_output:\n",
        "    label = [\"k\"]\n",
        "    for l, v, e in zip(label, popt, np.sqrt(np.diag(pcov))) :\n",
        "      print(\"%11s = %10.10f +- %7.10f\" % (l ,v, e))\n",
        "    print(\"\\n\") "
      ],
      "metadata": {
        "id": "DAbOH06qXvH5"
      },
      "execution_count": null,
      "outputs": []
    },
    {
      "cell_type": "code",
      "source": [
        "#fitplot(A, B, print_output=True, plot_guess=False):\n",
        "fitplot(6)"
      ],
      "metadata": {
        "colab": {
          "base_uri": "https://localhost:8080/",
          "height": 466
        },
        "id": "dZABa14cXv3h",
        "outputId": "c6817280-94ab-4285-dc49-ff7ad0eaf72e"
      },
      "execution_count": null,
      "outputs": [
        {
          "output_type": "display_data",
          "data": {
            "text/plain": [
              "<Figure size 648x432 with 0 Axes>"
            ]
          },
          "metadata": {}
        },
        {
          "output_type": "display_data",
          "data": {
            "text/plain": [
              "<Figure size 720x432 with 1 Axes>"
            ],
            "image/png": "[encoded data removed]"
          },
          "metadata": {
            "needs_background": "light"
          }
        },
        {
          "output_type": "stream",
          "name": "stdout",
          "text": [
            "          k = 4.6026297994 +- 0.0843758444\n",
            "\n",
            "\n"
          ]
        }
      ]
    },
    {
      "cell_type": "markdown",
      "source": [
        "###Misure in funzione del Peso"
      ],
      "metadata": {
        "id": "8jpJHpN1ZCZ1"
      }
    },
    {
      "cell_type": "markdown",
      "source": [
        "Per una misurazione meno soggetta ad errore sperimentale e quindi più precisa, possiamo maneggiare la legge di Biot per fittare $k$ con la formula $\\alpha=\\frac{kP}{S}$ dove $S$ è la sezione del cilindro graduato in cui versiamo la soluzione e $P$ il peso del soluto."
      ],
      "metadata": {
        "id": "ruQ5u8iPDOTK"
      }
    },
    {
      "cell_type": "code",
      "source": [
        "plt.figure(figsize=[8,6])\n",
        "plotSizeX=40                                     # Dimensione in X del grafico\n",
        "plotSizeY= 400\n",
        "dati=np.loadtxt(\"exp1_P_alfa.txt\", dtype=np.str, delimiter=\"\\t\", skiprows=1) #scarto l'header del file\n",
        "dati = dati.astype(np.float)\n",
        "P=dati[:,0] #ordine degli  zeri\n",
        "angolo=dati[:,1] #radianti\n",
        "\n",
        "\n",
        "print(\"\\Peso (g) \\t\\tAngolo (deg)\")\n",
        "for i in range(len(P)):\n",
        "  print(P[i],\"\\t\",angolo[i])\n",
        "\n",
        "\n",
        "plt.scatter(P, angolo, color='red')\n",
        "\n",
        "plt.title(\"Dati Sperimentali\")\n",
        "plt.grid(True)\n",
        "plt.xlabel(\"Peso (g)\")\n",
        "plt.ylabel(\"Angolo (deg)\")\n",
        "plt.legend()"
      ],
      "metadata": {
        "colab": {
          "base_uri": "https://localhost:8080/",
          "height": 667
        },
        "id": "0uNFD40HZHp2",
        "outputId": "a0071371-14d9-4f1f-fdee-4b1f9975972f"
      },
      "execution_count": null,
      "outputs": [
        {
          "output_type": "stream",
          "name": "stderr",
          "text": [
            "<ipython-input-18-c54d132f908d>:4: DeprecationWarning: `np.str` is a deprecated alias for the builtin `str`. To silence this warning, use `str` by itself. Doing this will not modify any behavior and is safe. If you specifically wanted the numpy scalar type, use `np.str_` here.\n",
            "Deprecated in NumPy 1.20; for more details and guidance: https://numpy.org/devdocs/release/1.20.0-notes.html#deprecations\n",
            "  dati=np.loadtxt(\"exp1_P_alfa.txt\", dtype=np.str, delimiter=\"\\t\", skiprows=1) #scarto l'header del file\n",
            "<ipython-input-18-c54d132f908d>:5: DeprecationWarning: `np.float` is a deprecated alias for the builtin `float`. To silence this warning, use `float` by itself. Doing this will not modify any behavior and is safe. If you specifically wanted the numpy scalar type, use `np.float64` here.\n",
            "Deprecated in NumPy 1.20; for more details and guidance: https://numpy.org/devdocs/release/1.20.0-notes.html#deprecations\n",
            "  dati = dati.astype(np.float)\n",
            "WARNING:matplotlib.legend:No handles with labels found to put in legend.\n"
          ]
        },
        {
          "output_type": "stream",
          "name": "stdout",
          "text": [
            "\\Peso (g) \t\tAngolo (deg)\n",
            "10.3 \t 10.0\n",
            "20.5 \t 21.5\n",
            "30.7 \t 33.0\n",
            "39.0 \t 41.0\n",
            "51.0 \t 53.0\n"
          ]
        },
        {
          "output_type": "execute_result",
          "data": {
            "text/plain": [
              "<matplotlib.legend.Legend at 0x7fdb7dd7d940>"
            ]
          },
          "metadata": {},
          "execution_count": 18
        },
        {
          "output_type": "display_data",
          "data": {
            "text/plain": [
              "<Figure size 576x432 with 1 Axes>"
            ],
            "image/png": "[encoded data removed]"
          },
          "metadata": {
            "needs_background": "light"
          }
        }
      ]
    },
    {
      "cell_type": "code",
      "source": [
        "def retta(p,k):\n",
        "    alfa= k*p/5.72 ##La sezione misurata è di 5.72 cm\n",
        "    return alfa"
      ],
      "metadata": {
        "id": "do64aJovZfAQ"
      },
      "execution_count": null,
      "outputs": []
    },
    {
      "cell_type": "code",
      "source": [
        "# Fitting routine\n",
        "# esegue il fit dei dati a partire da una stima dei dati iniziali\n",
        "#\n",
        " \n",
        "def fitplot(k, print_output=True, plot_guess=False):\n",
        " \n",
        "  guess = np.array([k]) #array of initial guesses\n",
        "  bounds = ([-np.inf], [np.inf]) \n",
        " \n",
        "  global popt, pcov    #declare fit results as global variables\n",
        " \n",
        "  plt.figure(figsize=(9, 6))\n",
        " \n",
        "  popt, pcov = curve_fit(retta, P, angolo, p0=guess, bounds=bounds)\n",
        "\n",
        "  if plot_guess:\n",
        "    plt.plot(t, retta(t, guess[0]),'--', color=[0.3,0.7,0], label=\"Guess\", linewidth=20) # plot guess\n",
        "\n",
        "                                                                                                \n",
        "  #plotting fit result\n",
        "  ndata=len(P)\n",
        "  plt.figure(figsize=[10,6])\n",
        "  xmin,xmax=P[0],P[ndata-1]\n",
        "  x=np.arange(xmin,xmax+1e-5,0.01)\n",
        "  y=retta(x,popt[0])\n",
        "  plt.xlabel('Peso (g)', fontsize=20)\n",
        "  plt.ylabel('Angolo (deg)', fontsize=20)\n",
        "  plt.xticks(fontsize=10)\n",
        "  plt.yticks(fontsize=10)\n",
        "  plt.plot(P,angolo,'o',markersize=8,label=\"Exp.\")\n",
        "  plt.plot(x,y,label=\"Fit\")\n",
        "  plt.grid(True)\n",
        "  plt.legend()\n",
        "  plt.show()\n",
        "  \n",
        "  if print_output:\n",
        "    label = [\"k\"]\n",
        "    for l, v, e in zip(label, popt, np.sqrt(np.diag(pcov))) :\n",
        "      print(\"%11s = %10.10f +- %7.10f\" % (l ,v, e))\n",
        "    print(\"\\n\") "
      ],
      "metadata": {
        "id": "z1W1lqbrZv1D"
      },
      "execution_count": null,
      "outputs": []
    },
    {
      "cell_type": "code",
      "source": [
        "#fitplot(A, B, print_output=True, plot_guess=False):\n",
        "fitplot(5)"
      ],
      "metadata": {
        "colab": {
          "base_uri": "https://localhost:8080/",
          "height": 466
        },
        "id": "qMLhzuM_Z_Aa",
        "outputId": "12fa005d-d37a-444a-deb8-e4901951b9dd"
      },
      "execution_count": null,
      "outputs": [
        {
          "output_type": "display_data",
          "data": {
            "text/plain": [
              "<Figure size 648x432 with 0 Axes>"
            ]
          },
          "metadata": {}
        },
        {
          "output_type": "display_data",
          "data": {
            "text/plain": [
              "<Figure size 720x432 with 1 Axes>"
            ],
            "image/png": "[encoded data removed]"
          },
          "metadata": {
            "needs_background": "light"
          }
        },
        {
          "output_type": "stream",
          "name": "stdout",
          "text": [
            "          k = 5.9942123082 +- 0.0473328353\n",
            "\n",
            "\n"
          ]
        }
      ]
    },
    {
      "cell_type": "markdown",
      "source": [
        "##Esperimento 2"
      ],
      "metadata": {
        "id": "-ph655vcaQwQ"
      }
    },
    {
      "cell_type": "markdown",
      "source": [
        "Nel secondo esperimento vogliamo studiare la dipendenza di $k$ dalla lungheza d'onda $\\lambda$ secondo la legge $k(\\lambda)=\\frac{A}{\\lambda^2}$. Fissiamo $P$ e visto che $S$ è costante ricaviamo $k=\\frac{\\alpha S}{P}$, variamo $\\lambda$ e calcoliamo $A=k\\lambda^2$. Confrontiamo in ultimo i valori di $k$ a $\\lambda=589 nm$ stimati dai nostri dati sperimentali con i valori tabulati."
      ],
      "metadata": {
        "id": "0ytFKeItEK1z"
      }
    },
    {
      "cell_type": "markdown",
      "source": [
        "###Saccarosio"
      ],
      "metadata": {
        "id": "4PsdaTWNaUb0"
      }
    },
    {
      "cell_type": "markdown",
      "source": [
        "Per il saccarosio otteniamo i valori\n",
        "\n",
        "\\begin{array}{|c|c|c|c|}\n",
        "\\hline\n",
        "\\lambda (nm) & \\alpha (deg) & k (deg*cm^2/g ) & A (deg*cm^2*\\mu m^2/g)\\\\\n",
        "\\hline\n",
        "468 &74 &10.452 & 2.29  \\\\\n",
        "\\hline\n",
        "525 &55 &7.768 &2.14  \\\\\n",
        "\\hline\n",
        "580 &  43 &6.073 &2.04 \\\\\n",
        "\\hline\n",
        "630 & 39 & 5.509 & 2.19 \\\\\n",
        "\\hline\n",
        "\\end{array}\n",
        "\n",
        "quindi i risutati di $A$ sono \n",
        "\n",
        "\\begin{array}{|c|c|}\n",
        "\\hline\n",
        "Media & Deviazione Standard\\\\\n",
        "\\hline\n",
        "2.165 & 0.104\\\\\n",
        "\\hline\n",
        "\\end{array}\n",
        "\n"
      ],
      "metadata": {
        "id": "AQ5IYX0WakmR"
      }
    },
    {
      "cell_type": "code",
      "source": [
        "#Saccarosio\n",
        "k=2.165/((0.589)**2)\n",
        "print(k)\n",
        "dev=0.104/(0.589)**2\n",
        "print(dev)"
      ],
      "metadata": {
        "colab": {
          "base_uri": "https://localhost:8080/"
        },
        "id": "8OWrjHXoSUQV",
        "outputId": "ec5a2bac-e1b8-4597-b5c9-09b10407669b"
      },
      "execution_count": null,
      "outputs": [
        {
          "output_type": "stream",
          "name": "stdout",
          "text": [
            "6.240613857333514\n",
            "0.29978006520216416\n"
          ]
        }
      ]
    },
    {
      "cell_type": "markdown",
      "source": [
        "Abbiamo otenuto $k=(6.24 \\pm 0.30) (deg*cm^2/g)$, in accordo entro $2\\sigma$ con il valore tabulato $k=6.65 (deg*cm^2/g)$. "
      ],
      "metadata": {
        "id": "LtamIRMTFY3e"
      }
    },
    {
      "cell_type": "markdown",
      "source": [
        "###Fruttosio"
      ],
      "metadata": {
        "id": "AYmCNY57zg6r"
      }
    },
    {
      "cell_type": "markdown",
      "source": [
        "Per il fruttosio otteniamo i valori\n",
        "\n",
        "\\begin{array}{|c|c|c|c|}\n",
        "\\hline\n",
        "\\lambda (nm) & \\alpha (deg) & k (deg*cm^2/g ) & A (deg*cm^2* \\mu m^2/g)\\\\\n",
        "\\hline\n",
        "468 & -105&-14.940 & -3.27  \\\\\n",
        "\\hline\n",
        "525 &-84 &-11.952 &-3.29  \\\\\n",
        "\\hline\n",
        "580 & -65 &-9.249 & -3.11 \\\\\n",
        "\\hline\n",
        "630 & -60 & -8.537 & -3.38 \\\\\n",
        "\\hline\n",
        "\\end{array}\n",
        "\n",
        "\n",
        "Quindi i risultati di $A$ sono\n",
        "\n",
        "\\begin{array}{|c|c|}\n",
        "\\hline\n",
        "Media & Deviazione Standard\\\\\n",
        "\\hline\n",
        "-3.270 & 0.144\\\\\n",
        "\\hline\n",
        "\\end{array}"
      ],
      "metadata": {
        "id": "KycnZxI385Br"
      }
    },
    {
      "cell_type": "code",
      "source": [
        "##fruttosio\n",
        "k=-3.270/(0.589)**2\n",
        "dev=0.144/(0.589)**2\n",
        "print(k)\n",
        "print(dev)"
      ],
      "metadata": {
        "colab": {
          "base_uri": "https://localhost:8080/"
        },
        "id": "UbLVlYiOUTU8",
        "outputId": "e7468f3c-b846-4613-883a-e6da30e2d836"
      },
      "execution_count": null,
      "outputs": [
        {
          "output_type": "stream",
          "name": "stdout",
          "text": [
            "-9.42577705010651\n",
            "0.41508009027991966\n"
          ]
        }
      ]
    },
    {
      "cell_type": "markdown",
      "source": [
        "Abbiamo otenuto $k=(-9.43 \\pm 0.42) (deg*cm^2/g)$, in accordo entro $1\\sigma$ con il valore tabulato $k=-9.12 (deg*cm^2/g)$. "
      ],
      "metadata": {
        "id": "dOd-UcXcGqhx"
      }
    },
    {
      "cell_type": "markdown",
      "source": [
        "###Glucosio"
      ],
      "metadata": {
        "id": "VlG-BdMO3oaS"
      }
    },
    {
      "cell_type": "markdown",
      "source": [
        "Per il glucosio otteniamo i valori\n",
        "\n",
        "\\begin{array}{|c|c|c|c|}\n",
        "\\hline\n",
        "\\lambda (nm) & \\alpha (deg) & k (deg*cm^2/g ) & A (deg*cm^2* \\mu m^2/g)\\\\\n",
        "\\hline\n",
        "468 & 53&14.645 & 3.21  \\\\\n",
        "\\hline\n",
        "525 &42 &11.606 &3.20  \\\\\n",
        "\\hline\n",
        "580 & 33 &9.119 & 3.07 \\\\\n",
        "\\hline\n",
        "630 & 28 & 7.737 & 3.07 \\\\\n",
        "\\hline\n",
        "\\end{array}\n",
        "\n",
        "Quindi i valori di A sono\n",
        "\n",
        "\n",
        "\\begin{array}{|c|c|}\n",
        "\\hline\n",
        "Media & Deviazione Standard\\\\\n",
        "\\hline\n",
        "3.138*10^6 & 0.076\\\\\n",
        "\\hline\n",
        "\\end{array}\n"
      ],
      "metadata": {
        "id": "WGq0r6bczj_B"
      }
    },
    {
      "cell_type": "code",
      "source": [
        "##Glucosio non eq\n",
        "k=3.138/(0.589**2)\n",
        "dev=0.076/(0.589**2)\n",
        "print(k)\n",
        "print(dev)"
      ],
      "metadata": {
        "colab": {
          "base_uri": "https://localhost:8080/"
        },
        "id": "mFXVg5U4UmAX",
        "outputId": "f58a482c-6442-4e01-ae30-78166eb71e9a"
      },
      "execution_count": null,
      "outputs": [
        {
          "output_type": "stream",
          "name": "stdout",
          "text": [
            "9.045286967349915\n",
            "0.21907004764773538\n"
          ]
        }
      ]
    },
    {
      "cell_type": "markdown",
      "source": [
        "Abbiamo otenuto $k=(9.05 \\pm 0.22) (deg*cm^2/g)$, **NON**  in accordo con il valore tabulato $k=5.24 (deg*cm^2/g)$.\n",
        "\n",
        "Ma questo, come vedremo nell'Esperimento 3, dipende dalla mutarotazione del glucosio, infatti $k=5.24 (deg*cm^2/g)$ è il valore valido per la soluzione in cui $\\alpha$-D-glucosio e $\\beta$-D-glucosio sono in equilibrio. Nella prossima parte daremo il risoltato corretto."
      ],
      "metadata": {
        "id": "zb0ptb_PG6-3"
      }
    },
    {
      "cell_type": "markdown",
      "source": [
        "##Esperimento 3"
      ],
      "metadata": {
        "id": "5trj54RV-fNR"
      }
    },
    {
      "cell_type": "markdown",
      "source": [
        "Nel glucosio che utilizziamo non c'è equilibrio tra le due forme isomeriche. Utiliziamo acqua calda per velocizzare l'effetto di **mutarotazione**, cioè il processo nel quale le due forme isomeriche si trasformano una nell'altra fino al raggiungimento dell'equilibrio. \n",
        "\n",
        "Plottiamo l'angolo di rotazione in funzione del tempo (ad una lunghezza d'onda fissata $\\lambda=589 nm$). "
      ],
      "metadata": {
        "id": "pF9iKjq1H4vW"
      }
    },
    {
      "cell_type": "code",
      "source": [
        "plt.figure(figsize=[8,6])\n",
        "plotSizeX=40                                     # Dimensione in X del grafico\n",
        "plotSizeY= 400\n",
        "dati=np.loadtxt(\"exp3.txt\", dtype=np.str, delimiter=\"\\t\", skiprows=1) #scarto l'header del file\n",
        "dati = dati.astype(np.float)\n",
        "T=dati[:,0] #ordine degli  zeri\n",
        "angolo=dati[:,1] #radianti\n",
        "\n",
        "\n",
        "print(\"\\Tempo (min) \\t\\tAngolo (deg)\")\n",
        "for i in range(len(T)):\n",
        "  print(T[i],\"\\t\",angolo[i])\n",
        "\n",
        "\n",
        "plt.scatter(T, angolo, color='blue')\n",
        "\n",
        "plt.title(\"Dati Sperimentali\")\n",
        "plt.grid(True)\n",
        "plt.xlabel(\"T (min)\")\n",
        "plt.ylabel(\"Angolo (deg)\")\n",
        "plt.legend()"
      ],
      "metadata": {
        "colab": {
          "base_uri": "https://localhost:8080/",
          "height": 841
        },
        "id": "zAmlaffa7Daa",
        "outputId": "4f905f02-1a87-4900-c14a-ea7c4d12d06b"
      },
      "execution_count": null,
      "outputs": [
        {
          "output_type": "stream",
          "name": "stderr",
          "text": [
            "<ipython-input-30-2c7a12392691>:4: DeprecationWarning: `np.str` is a deprecated alias for the builtin `str`. To silence this warning, use `str` by itself. Doing this will not modify any behavior and is safe. If you specifically wanted the numpy scalar type, use `np.str_` here.\n",
            "Deprecated in NumPy 1.20; for more details and guidance: https://numpy.org/devdocs/release/1.20.0-notes.html#deprecations\n",
            "  dati=np.loadtxt(\"exp3.txt\", dtype=np.str, delimiter=\"\\t\", skiprows=1) #scarto l'header del file\n",
            "<ipython-input-30-2c7a12392691>:5: DeprecationWarning: `np.float` is a deprecated alias for the builtin `float`. To silence this warning, use `float` by itself. Doing this will not modify any behavior and is safe. If you specifically wanted the numpy scalar type, use `np.float64` here.\n",
            "Deprecated in NumPy 1.20; for more details and guidance: https://numpy.org/devdocs/release/1.20.0-notes.html#deprecations\n",
            "  dati = dati.astype(np.float)\n",
            "WARNING:matplotlib.legend:No handles with labels found to put in legend.\n"
          ]
        },
        {
          "output_type": "stream",
          "name": "stdout",
          "text": [
            "\\Tempo (min) \t\tAngolo (deg)\n",
            "0.0 \t 37.0\n",
            "2.0 \t 35.0\n",
            "4.0 \t 33.0\n",
            "6.0 \t 31.0\n",
            "8.0 \t 30.0\n",
            "10.0 \t 29.0\n",
            "12.0 \t 28.0\n",
            "14.0 \t 27.0\n",
            "16.0 \t 26.0\n",
            "19.0 \t 25.0\n",
            "22.0 \t 24.0\n",
            "25.0 \t 24.0\n",
            "28.0 \t 23.0\n",
            "30.0 \t 23.0\n",
            "50.0 \t 23.0\n"
          ]
        },
        {
          "output_type": "execute_result",
          "data": {
            "text/plain": [
              "<matplotlib.legend.Legend at 0x7ffbb8747160>"
            ]
          },
          "metadata": {},
          "execution_count": 30
        },
        {
          "output_type": "display_data",
          "data": {
            "text/plain": [
              "<Figure size 576x432 with 1 Axes>"
            ],
            "image/png": "[encoded data removed]"
          },
          "metadata": {
            "needs_background": "light"
          }
        }
      ]
    },
    {
      "cell_type": "markdown",
      "source": [
        "Fissiamo $\\lambda$ e $P$. Dopo un tempo di circa 30 minuti la soluzione si stabilizza e presenta un angolo di rotazione di 23 gradi. A questo punto rifacciamo il lavoro svolto nel secondo esperimento:\n",
        "\n",
        "Per il glucosio otteniamo i valori\n",
        "\n",
        "\\begin{array}{|c|c|c|c|}\n",
        "\\hline\n",
        "\\lambda (nm) & \\alpha (deg) & k (deg*cm^2/g ) & A (deg*cm^2* \\mu m^2/g)\\\\\n",
        "\\hline\n",
        "468 & 35&8.073 & 1.65  \\\\\n",
        "\\hline\n",
        "525 &27 &6.227 &1.72  \\\\\n",
        "\\hline\n",
        "580 & 23 &5.305 & 1.78 \\\\\n",
        "\\hline\n",
        "630 & 19 & 4.382 & 1.65 \\\\\n",
        "\\hline\n",
        "\\end{array}\n",
        "\n",
        "Quindi i valori di A sono\n",
        "\n",
        "\n",
        "\\begin{array}{|c|c|}\n",
        "\\hline\n",
        "Media & Deviazione Standard\\\\\n",
        "\\hline\n",
        "1.713 & 0.073\\\\\n",
        "\\hline\n",
        "\\end{array}"
      ],
      "metadata": {
        "id": "hLG0HyI6O_AD"
      }
    },
    {
      "cell_type": "code",
      "source": [
        "##glucosio eq\n",
        "k=1.713/0.589**2\n",
        "print(k)\n",
        "dev=0.073/0.589**2\n",
        "print(dev)"
      ],
      "metadata": {
        "colab": {
          "base_uri": "https://localhost:8080/"
        },
        "id": "9Y8_QUeZQ2xP",
        "outputId": "afef2f00-81fe-46a7-bf15-9e389d36a019"
      },
      "execution_count": null,
      "outputs": [
        {
          "output_type": "stream",
          "name": "stdout",
          "text": [
            "4.9377235739548775\n",
            "0.2104225457669037\n"
          ]
        }
      ]
    },
    {
      "cell_type": "markdown",
      "source": [
        "Abbiamo otenuto $k=(4.94 \\pm 0.21) (deg*cm^2/g)$, in accordo entro $2\\sigma$ con il valore tabulato $k=5.24 (deg*cm^2/g)$."
      ],
      "metadata": {
        "id": "9imRSaSYRoBT"
      }
    },
    {
      "cell_type": "markdown",
      "source": [
        "##Esperimento 4"
      ],
      "metadata": {
        "id": "mPlbKNUF-iQd"
      }
    },
    {
      "cell_type": "markdown",
      "source": [
        "Prepariamo una soluzione di saccarosio utilizzando acqua calda e qualche millilitro di $HCl$ al 25%. \n",
        "\n",
        "Poiché in soluzione acquosa il saccarosio si scinde in glucosio + fruttosio, il potere rotatorio cambierà. L'aggiunta di $HCl$ serve soltanto per catalizzare la reazione. A reazione completa la soluzione avrà un potere rotatorio negativo."
      ],
      "metadata": {
        "id": "pPRsuFRgR5JV"
      }
    },
    {
      "cell_type": "markdown",
      "source": [
        "### Senza $HCl$"
      ],
      "metadata": {
        "id": "s1GhHQ1ZTFbj"
      }
    },
    {
      "cell_type": "code",
      "source": [
        "plt.figure(figsize=[8,6])\n",
        "plotSizeX=40                                     # Dimensione in X del grafico\n",
        "plotSizeY= 400\n",
        "dati=np.loadtxt(\"exp4_0pipetta.txt\", dtype=np.str, delimiter=\"\\t\", skiprows=1) #scarto l'header del file\n",
        "dati = dati.astype(np.float)\n",
        "T=dati[:,0] #ordine degli  zeri\n",
        "angolo=dati[:,1] #radianti\n",
        "\n",
        "\n",
        "print(\"\\Tempo (min) \\t\\tAngolo (deg)\")\n",
        "for i in range(len(T)):\n",
        "  print(T[i],\"\\t\",angolo[i])\n",
        "\n",
        "\n",
        "plt.scatter(T, angolo, color='blue')\n",
        "plt.ylim(0,70)\n",
        "plt.title(\"Dati Sperimentali\")\n",
        "plt.grid(True)\n",
        "plt.xlabel(\"T (min)\")\n",
        "plt.ylabel(\"Angolo (deg)\")\n",
        "plt.legend()"
      ],
      "metadata": {
        "colab": {
          "base_uri": "https://localhost:8080/",
          "height": 684
        },
        "id": "Kd-U1Jmy92fO",
        "outputId": "d1e6a1ac-e64f-462d-c05a-b4609dacab3c"
      },
      "execution_count": null,
      "outputs": [
        {
          "output_type": "stream",
          "name": "stderr",
          "text": [
            "<ipython-input-34-05af5434a342>:4: DeprecationWarning: `np.str` is a deprecated alias for the builtin `str`. To silence this warning, use `str` by itself. Doing this will not modify any behavior and is safe. If you specifically wanted the numpy scalar type, use `np.str_` here.\n",
            "Deprecated in NumPy 1.20; for more details and guidance: https://numpy.org/devdocs/release/1.20.0-notes.html#deprecations\n",
            "  dati=np.loadtxt(\"exp4_0pipetta.txt\", dtype=np.str, delimiter=\"\\t\", skiprows=1) #scarto l'header del file\n",
            "<ipython-input-34-05af5434a342>:5: DeprecationWarning: `np.float` is a deprecated alias for the builtin `float`. To silence this warning, use `float` by itself. Doing this will not modify any behavior and is safe. If you specifically wanted the numpy scalar type, use `np.float64` here.\n",
            "Deprecated in NumPy 1.20; for more details and guidance: https://numpy.org/devdocs/release/1.20.0-notes.html#deprecations\n",
            "  dati = dati.astype(np.float)\n",
            "WARNING:matplotlib.legend:No handles with labels found to put in legend.\n"
          ]
        },
        {
          "output_type": "stream",
          "name": "stdout",
          "text": [
            "\\Tempo (min) \t\tAngolo (deg)\n",
            "0.0 \t 45.0\n",
            "30.0 \t 45.0\n",
            "60.0 \t 48.0\n",
            "1340.0 \t 40.0\n",
            "1390.0 \t 45.0\n",
            "1445.0 \t 45.0\n"
          ]
        },
        {
          "output_type": "execute_result",
          "data": {
            "text/plain": [
              "<matplotlib.legend.Legend at 0x7ffbb86a3fd0>"
            ]
          },
          "metadata": {},
          "execution_count": 34
        },
        {
          "output_type": "display_data",
          "data": {
            "text/plain": [
              "<Figure size 576x432 with 1 Axes>"
            ],
            "image/png": "[encoded data removed]"
          },
          "metadata": {
            "needs_background": "light"
          }
        }
      ]
    },
    {
      "cell_type": "markdown",
      "source": [
        "Vediamo che in assenza di catalizzatore l'angolo di rotazione (e quindi $k$) resta costante nell'errore sperimentale."
      ],
      "metadata": {
        "id": "T8_8VnWITMKj"
      }
    },
    {
      "cell_type": "markdown",
      "source": [
        "###Reazione con l'aggiunta di una pipetta di $HCl$"
      ],
      "metadata": {
        "id": "lt1xm51STWzT"
      }
    },
    {
      "cell_type": "code",
      "source": [
        "plt.figure(figsize=[8,6])\n",
        "plotSizeX=40                                     # Dimensione in X del grafico\n",
        "plotSizeY= 400\n",
        "dati=np.loadtxt(\"exp4_1pipetta.txt\", dtype=np.str, delimiter=\"\\t\", skiprows=1) #scarto l'header del file\n",
        "dati = dati.astype(np.float)\n",
        "T=dati[:,0] #ordine degli  zeri\n",
        "angolo=dati[:,1] #radianti\n",
        "\n",
        "\n",
        "print(\"\\Tempo (min) \\t\\tAngolo (deg)\")\n",
        "for i in range(len(T)):\n",
        "  print(T[i],\"\\t\",angolo[i])\n",
        "\n",
        "\n",
        "plt.scatter(T, angolo, color='blue')\n",
        "\n",
        "plt.title(\"Dati Sperimentali\")\n",
        "plt.grid(True)\n",
        "plt.xlabel(\"T (min)\")\n",
        "plt.ylabel(\"Angolo (deg)\")\n",
        "plt.legend()"
      ],
      "metadata": {
        "colab": {
          "base_uri": "https://localhost:8080/",
          "height": 684
        },
        "id": "Ia0mh4gW9dOT",
        "outputId": "2d624f20-8cf0-453e-850d-ace9c86c1cfe"
      },
      "execution_count": null,
      "outputs": [
        {
          "output_type": "stream",
          "name": "stderr",
          "text": [
            "<ipython-input-21-ad70055ea8aa>:4: DeprecationWarning: `np.str` is a deprecated alias for the builtin `str`. To silence this warning, use `str` by itself. Doing this will not modify any behavior and is safe. If you specifically wanted the numpy scalar type, use `np.str_` here.\n",
            "Deprecated in NumPy 1.20; for more details and guidance: https://numpy.org/devdocs/release/1.20.0-notes.html#deprecations\n",
            "  dati=np.loadtxt(\"exp4_1pipetta.txt\", dtype=np.str, delimiter=\"\\t\", skiprows=1) #scarto l'header del file\n",
            "<ipython-input-21-ad70055ea8aa>:5: DeprecationWarning: `np.float` is a deprecated alias for the builtin `float`. To silence this warning, use `float` by itself. Doing this will not modify any behavior and is safe. If you specifically wanted the numpy scalar type, use `np.float64` here.\n",
            "Deprecated in NumPy 1.20; for more details and guidance: https://numpy.org/devdocs/release/1.20.0-notes.html#deprecations\n",
            "  dati = dati.astype(np.float)\n",
            "WARNING:matplotlib.legend:No handles with labels found to put in legend.\n"
          ]
        },
        {
          "output_type": "stream",
          "name": "stdout",
          "text": [
            "\\Tempo (min) \t\tAngolo (deg)\n",
            "0.0 \t 42.0\n",
            "30.0 \t 37.0\n",
            "60.0 \t 35.0\n",
            "1340.0 \t 0.0\n",
            "1390.0 \t 0.0\n",
            "1445.0 \t 0.0\n"
          ]
        },
        {
          "output_type": "execute_result",
          "data": {
            "text/plain": [
              "<matplotlib.legend.Legend at 0x7ffbba97fc10>"
            ]
          },
          "metadata": {},
          "execution_count": 21
        },
        {
          "output_type": "display_data",
          "data": {
            "text/plain": [
              "<Figure size 576x432 with 1 Axes>"
            ],
            "image/png": "[encoded data removed]"
          },
          "metadata": {
            "needs_background": "light"
          }
        }
      ]
    },
    {
      "cell_type": "markdown",
      "source": [
        "Dopo un giorno vediamo come l'angolo di rotazione è molto diminuito, stabilendosi a zero."
      ],
      "metadata": {
        "id": "YZ59CaDCTfFF"
      }
    },
    {
      "cell_type": "markdown",
      "source": [
        "###Soluzione con l'aggiunta di tre pipette di $HCl$"
      ],
      "metadata": {
        "id": "tQ9H-a19UaPy"
      }
    },
    {
      "cell_type": "code",
      "source": [
        "plt.figure(figsize=[8,6])\n",
        "plotSizeX=40                                     # Dimensione in X del grafico\n",
        "plotSizeY= 400\n",
        "dati=np.loadtxt(\"exp4_3pipetta.txt\", dtype=np.str, delimiter=\"\\t\", skiprows=1) #scarto l'header del file\n",
        "dati = dati.astype(np.float)\n",
        "T=dati[:,0] #ordine degli  zeri\n",
        "angolo=dati[:,1] #radianti\n",
        "\n",
        "\n",
        "print(\"\\Tempo (min) \\t\\tAngolo (deg)\")\n",
        "for i in range(len(T)):\n",
        "  print(T[i],\"\\t\",angolo[i])\n",
        "\n",
        "\n",
        "plt.scatter(T, angolo, color='blue')\n",
        "\n",
        "plt.title(\"Dati Sperimentali\")\n",
        "plt.grid(True)\n",
        "plt.xlabel(\"T (min)\")\n",
        "plt.ylabel(\"Angolo (deg)\")\n",
        "plt.legend()"
      ],
      "metadata": {
        "colab": {
          "base_uri": "https://localhost:8080/",
          "height": 684
        },
        "id": "iGqJNLSP97Uu",
        "outputId": "b3d7fa51-99bc-4a26-fda4-1c3c37a9ea48"
      },
      "execution_count": null,
      "outputs": [
        {
          "output_type": "stream",
          "name": "stderr",
          "text": [
            "<ipython-input-22-10e62159bff1>:4: DeprecationWarning: `np.str` is a deprecated alias for the builtin `str`. To silence this warning, use `str` by itself. Doing this will not modify any behavior and is safe. If you specifically wanted the numpy scalar type, use `np.str_` here.\n",
            "Deprecated in NumPy 1.20; for more details and guidance: https://numpy.org/devdocs/release/1.20.0-notes.html#deprecations\n",
            "  dati=np.loadtxt(\"exp4_3pipetta.txt\", dtype=np.str, delimiter=\"\\t\", skiprows=1) #scarto l'header del file\n",
            "<ipython-input-22-10e62159bff1>:5: DeprecationWarning: `np.float` is a deprecated alias for the builtin `float`. To silence this warning, use `float` by itself. Doing this will not modify any behavior and is safe. If you specifically wanted the numpy scalar type, use `np.float64` here.\n",
            "Deprecated in NumPy 1.20; for more details and guidance: https://numpy.org/devdocs/release/1.20.0-notes.html#deprecations\n",
            "  dati = dati.astype(np.float)\n",
            "WARNING:matplotlib.legend:No handles with labels found to put in legend.\n"
          ]
        },
        {
          "output_type": "stream",
          "name": "stdout",
          "text": [
            "\\Tempo (min) \t\tAngolo (deg)\n",
            "0.0 \t 40.0\n",
            "30.0 \t 30.0\n",
            "60.0 \t 24.0\n",
            "1340.0 \t -15.0\n",
            "1390.0 \t -10.0\n",
            "1445.0 \t -12.0\n"
          ]
        },
        {
          "output_type": "execute_result",
          "data": {
            "text/plain": [
              "<matplotlib.legend.Legend at 0x7ffbba93b580>"
            ]
          },
          "metadata": {},
          "execution_count": 22
        },
        {
          "output_type": "display_data",
          "data": {
            "text/plain": [
              "<Figure size 576x432 with 1 Axes>"
            ],
            "image/png": "[encoded data removed]"
          },
          "metadata": {
            "needs_background": "light"
          }
        }
      ]
    },
    {
      "cell_type": "markdown",
      "source": [
        "Vediamo come l'angolo di rotazione è molto diminuito, stabilendosi intorno ai -12 gradi dopo un giorno. In questo ultimo caso riusciamo a vedere come sia avvenuta l'inversione del potere rotatorio."
      ],
      "metadata": {
        "id": "OYkXyjEXT7Ai"
      }
    }
  ]
}